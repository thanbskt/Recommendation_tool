{
 "cells": [
  {
   "cell_type": "markdown",
   "metadata": {},
   "source": [
    "## Here we implement the algorithm for the recommendation tool. \n",
    "\n",
    "1) We import the data for our wardrobe\n",
    "2) We import the prediction model\n",
    "3) We implement the recommendation algorithm"
   ]
  },
  {
   "cell_type": "code",
   "execution_count": 2,
   "metadata": {},
   "outputs": [],
   "source": [
    "import pandas as pd\n",
    "import string\n",
    "import numpy as np\n",
    "import json\n",
    "import matplotlib.pyplot as plt\n",
    "import tensorflow as tf\n",
    "import os\n",
    "from tqdm import tqdm\n",
    "from PIL import Image\n",
    "import cv2\n",
    "%matplotlib inline\n",
    "\n",
    "from tensorflow.keras.models import load_model\n"
   ]
  },
  {
   "cell_type": "markdown",
   "metadata": {},
   "source": [
    "# STEP 1: We import the data from our wardrobe"
   ]
  },
  {
   "cell_type": "code",
   "execution_count": 4,
   "metadata": {},
   "outputs": [],
   "source": [
    "# Function that takes a path of an image and returns its array\n",
    "def preprocess_image_1(im_path):\n",
    "    img_np = cv2.imread(im_path, cv2.IMREAD_COLOR)\n",
    "    img_np = cv2.cvtColor(img_np, cv2.COLOR_BGR2RGB)\n",
    "    im = cv2.resize(img_np, (224,224))\n",
    "    im = im/255  \n",
    "    return im"
   ]
  },
  {
   "cell_type": "code",
   "execution_count": 5,
   "metadata": {},
   "outputs": [],
   "source": [
    "# We create a function that takes as input a path of the wardrobe and loads the images to a data dictionary. We use the preprocess function also\n",
    "categories = [\"Tops\", \"Bottoms\", \"Shoes\", \"Bags\", \"Accessories\", \"Outerwear\", \"Onepiece\"]\n",
    "def import_wardrobe(base_dir):\n",
    "    # A dictionary to hold your image data per category\n",
    "    data = {category: [] for category in categories}\n",
    "\n",
    "    for category in categories:\n",
    "        category_folder = os.path.join(base_dir, category)\n",
    "\n",
    "        # Ensure the path exists\n",
    "        if os.path.exists(category_folder):\n",
    "            for img_file in os.listdir(category_folder):\n",
    "                # Ensure dealing only with .jpg files or other image types\n",
    "                if img_file.endswith(\".jpg\"):\n",
    "                    img_path = os.path.join(category_folder, img_file)\n",
    "                    # Use your image preprocessing function here\n",
    "                    img = preprocess_image_1(img_path)\n",
    "                    data[category].append(img)\n",
    "\n",
    "    # Convert lists of images per category into numpy arrays\n",
    "    for category in categories:\n",
    "        data[category] = np.array(data[category])\n",
    "        return data\n",
    "# We define our path of the wardrobe\n",
    "   \n",
    "path = \"/home/thanos/Desktop/Sustainable_fashion/data/test_images/test_wardrobe\"\n",
    "# We call the function to import the wardrobe from the path\n",
    "data = import_wardrobe(path)\n",
    "    "
   ]
  },
  {
   "cell_type": "code",
   "execution_count": 8,
   "metadata": {},
   "outputs": [
    {
     "data": {
      "text/plain": [
       "(4, 224, 224, 3)"
      ]
     },
     "execution_count": 8,
     "metadata": {},
     "output_type": "execute_result"
    }
   ],
   "source": [
    "# Checking our data \n",
    "data[\"Tops\"].shape"
   ]
  },
  {
   "cell_type": "markdown",
   "metadata": {},
   "source": [
    "# STEP 2: Importing the prediction model we will use to get the scores"
   ]
  },
  {
   "cell_type": "code",
   "execution_count": null,
   "metadata": {},
   "outputs": [],
   "source": [
    "# First we load the prediction model\n",
    "model = load_model(\"path_to_saved_model.h5\")\n",
    "# We can display the models summary to check the INPUTS of the model\n",
    "model.summary()"
   ]
  },
  {
   "cell_type": "markdown",
   "metadata": {},
   "source": [
    "# STEP 3: Implementing the recommendation algorithm "
   ]
  },
  {
   "cell_type": "code",
   "execution_count": null,
   "metadata": {},
   "outputs": [],
   "source": []
  },
  {
   "cell_type": "code",
   "execution_count": null,
   "metadata": {},
   "outputs": [],
   "source": []
  },
  {
   "cell_type": "code",
   "execution_count": null,
   "metadata": {},
   "outputs": [],
   "source": [
    "def recommend_outfits(data, categories, recommend_cat):\n",
    "    # categories = ['Tops', 'Bottoms', 'Shoes','Outwear']\n",
    "    # recommend_cat = 'Shoes'\n",
    "    # Create an empty DataFrame to store the outfits and scores\n",
    "    columns_list = categories + ['Score']\n",
    "    outfits_df = pd.DataFrame(columns=columns_list)\n",
    "\n",
    "    # Initial definition of the order of categories for the model\n",
    "    full_category_order = [\"Tops\", \"Bottoms\", \"Shoes\", \"Bags\", \"Accessories\", \"Outwear\"]\n",
    "\n",
    "\n",
    "     # Filter the category_order based on the categories provided\n",
    "    category_order = [cat for cat in full_category_order if cat in categories]\n",
    "\n",
    "    # Create a dictionary of first items for all categories except the recommendation category\n",
    "    anchors = {cat: data[cat][0] for cat in categories if cat != recommend_cat}\n",
    "    x = anchors.keys()\n",
    "    print(x)\n",
    "\n",
    "    anchors_exp = {cat: np.expand_dims(anchors[cat], axis=0) for cat in anchors}\n",
    "    x = anchors_exp.keys()\n",
    "    print(x) \n",
    "\n",
    "    # Predict scores for all items in the recommendation category\n",
    "    for recommend_item in data[recommend_cat]:\n",
    "        recommend_item_exp = np.expand_dims(recommend_item, axis=0)\n",
    "\n",
    "        # Prepare input for the model in the correct order\n",
    "        model_input = [anchors_exp[cat] if cat in anchors_exp else None for cat in categories]\n",
    "\n",
    "        # We import the image the we want to recommend in the correct position\n",
    "        if recommend_cat in category_order:\n",
    "            model_input[category_order.index(recommend_cat)] = recommend_item_exp\n",
    "\n",
    "        # # Displaying the image of the recommended item\n",
    "        # plt.figure()\n",
    "        # plt.imshow(np.squeeze(model_input[2]))\n",
    "        # plt.title(f\"Recommended {recommend_cat}\")\n",
    "        # plt.axis('off')\n",
    "        # plt.show()\n",
    "\n",
    "        # Filter out None values\n",
    "        model_input = [inp for inp in model_input if inp is not None]\n",
    "        # Get prediction score\n",
    "        score = model.predict(model_input)[0]\n",
    "\n",
    "        # Append the outfit and score to the dataframe\n",
    "        outfit_data = dict(zip(categories, [anchors.get(cat, recommend_item) for cat in categories]))\n",
    "        outfit_data['Score'] = score\n",
    "        outfits_df = outfits_df.append(outfit_data, ignore_index=True)\n",
    "\n",
    "    outfits_df['Score'] = outfits_df['Score'].astype(float)\n",
    "    top_outfits_df = outfits_df.nlargest(2, 'Score')\n",
    "\n",
    "    fig, axs = plt.subplots(2, len(categories), figsize=(5 * len(categories), 10))\n",
    "\n",
    "    plt.suptitle('Top 2 Recommendations' , fontsize=16, fontweight='bold', y=1.02)\n",
    "\n",
    "    for idx, (i, outfit) in enumerate(top_outfits_df.iterrows()):\n",
    "        for col_idx, cat in enumerate(categories):\n",
    "            axs[idx, col_idx].imshow(outfit[cat])\n",
    "        axs[idx, col_idx].axis('off')\n",
    "\n",
    "plt.tight_layout()\n",
    "plt.show()"
   ]
  },
  {
   "cell_type": "code",
   "execution_count": null,
   "metadata": {},
   "outputs": [],
   "source": [
    "recommend_outfits(data, ['Tops', 'Bottoms', 'Shoes'], 'Shoes')\n"
   ]
  }
 ],
 "metadata": {
  "kernelspec": {
   "display_name": "test",
   "language": "python",
   "name": "python3"
  },
  "language_info": {
   "codemirror_mode": {
    "name": "ipython",
    "version": 3
   },
   "file_extension": ".py",
   "mimetype": "text/x-python",
   "name": "python",
   "nbconvert_exporter": "python",
   "pygments_lexer": "ipython3",
   "version": "3.10.12"
  }
 },
 "nbformat": 4,
 "nbformat_minor": 2
}
