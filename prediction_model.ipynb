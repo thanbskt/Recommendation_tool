{
 "cells": [
  {
   "cell_type": "code",
   "execution_count": null,
   "metadata": {},
   "outputs": [],
   "source": [
    "from tensorflow.keras.models import Model\n",
    "from tensorflow.keras.layers import Input, Dense, Concatenate"
   ]
  },
  {
   "cell_type": "code",
   "execution_count": null,
   "metadata": {},
   "outputs": [],
   "source": [
    "# Define the shape of your input images (height, width, channels)\n",
    "input_shape = (64, 64, 3)"
   ]
  },
  {
   "cell_type": "code",
   "execution_count": null,
   "metadata": {},
   "outputs": [],
   "source": [
    "# Create seven input layers\n",
    "input1 = Input(shape=input_shape, name=\"Image1\")\n",
    "input2 = Input(shape=input_shape, name=\"Image2\")\n",
    "input3 = Input(shape=input_shape, name=\"Image3\")\n",
    "input4 = Input(shape=input_shape, name=\"Image4\")\n",
    "input5 = Input(shape=input_shape, name=\"Image5\")\n",
    "input6 = Input(shape=input_shape, name=\"Image6\")\n",
    "input7 = Input(shape=input_shape, name=\"Image7\")"
   ]
  },
  {
   "cell_type": "code",
   "execution_count": null,
   "metadata": {},
   "outputs": [],
   "source": [
    "fc1 = Dense(128, activation='relu')(input1)\n",
    "fc2 = Dense(128, activation='relu')(input2)\n",
    "fc3 = Dense(128, activation='relu')(input3)\n",
    "fc4 = Dense(128, activation='relu')(input4)\n",
    "fc5 = Dense(128, activation='relu')(input5)\n",
    "fc6 = Dense(128, activation='relu')(input6)\n",
    "fc7 = Dense(128, activation='relu')(input7)"
   ]
  },
  {
   "cell_type": "code",
   "execution_count": null,
   "metadata": {},
   "outputs": [],
   "source": [
    "# Concatenate all the fully connected layers' outputs\n",
    "concatenated = Concatenate()([fc1, fc2, fc3, fc4, fc5, fc6, fc7])"
   ]
  },
  {
   "cell_type": "code",
   "execution_count": null,
   "metadata": {},
   "outputs": [],
   "source": [
    "# Additional Fully Connected layer on concatenated outputs\n",
    "final_fc = Dense(256, activation='relu')(concatenated)"
   ]
  },
  {
   "cell_type": "code",
   "execution_count": null,
   "metadata": {},
   "outputs": [],
   "source": [
    "model = Model(inputs=[text_input, metadata], outputs=output)\n"
   ]
  },
  {
   "cell_type": "code",
   "execution_count": null,
   "metadata": {},
   "outputs": [],
   "source": [
    "# Compile the model \n",
    "model.compile(loss='categorical_crossentropy',optimizer='Adam', \n",
    "                           metrics=['accuracy'])"
   ]
  },
  {
   "cell_type": "code",
   "execution_count": null,
   "metadata": {},
   "outputs": [],
   "source": [
    "print(model.summary())\n",
    "\n",
    "# plot graph\n",
    "display(plot_model(model, to_file=\"/content/drive/My Drive/thesis_sotiria/text_numerical.png\"))"
   ]
  },
  {
   "cell_type": "code",
   "execution_count": null,
   "metadata": {},
   "outputs": [],
   "source": [
    "model.fit(x= [X1_train_pad, scaled_X2_train], \n",
    "          y= y_train_ohe, validation_split=0.2, batch_size= 32,\n",
    "          epochs= 100, callbacks = [early_stop, checkpoint])"
   ]
  }
 ],
 "metadata": {
  "language_info": {
   "name": "python"
  },
  "orig_nbformat": 4
 },
 "nbformat": 4,
 "nbformat_minor": 2
}
