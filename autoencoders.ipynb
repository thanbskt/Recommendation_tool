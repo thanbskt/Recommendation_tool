{
 "cells": [
  {
   "cell_type": "markdown",
   "metadata": {},
   "source": [
    "## Import libraries and data "
   ]
  },
  {
   "cell_type": "code",
   "execution_count": 23,
   "metadata": {},
   "outputs": [],
   "source": [
    "import pandas as pd\n",
    "import numpy as np\n",
    "import cv2\n",
    "import glob\n",
    "# Keras to build the model\n",
    "import keras\n",
    "from keras import backend as K\n",
    "from keras.models import Model, model_from_json\n",
    "from keras.layers import Conv2D, MaxPooling2D, UpSampling2D, Input,BatchNormalization,LeakyReLU, Reshape\n",
    "from tensorflow.keras.layers import Input, Dense, Concatenate\n",
    "from keras.layers.core import Flatten, Dense, Dropout, Activation\n",
    "from tensorflow.keras.preprocessing.sequence import pad_sequences\n",
    "from keras.callbacks import EarlyStopping\n",
    "from keras.models import load_model\n",
    "import matplotlib.pyplot as plt\n",
    "from matplotlib import pyplot\n",
    "from keras.optimizers import Adadelta, RMSprop,SGD,Adam\n",
    "from tensorflow.keras.utils import plot_model\n",
    "# Pickle to load the data and save the models\n",
    "from keras.callbacks import ReduceLROnPlateau\n",
    "from matplotlib.offsetbox import OffsetImage, AnnotationBbox, TextArea\n",
    "import pickle"
   ]
  },
  {
   "cell_type": "code",
   "execution_count": 20,
   "metadata": {},
   "outputs": [],
   "source": [
    "# shape 64,64 must be the same with the input of the NN\n",
    "def preprosses_image_1(im_path):\n",
    "    img_np = cv2.imread(im_path, cv2.IMREAD_COLOR)\n",
    "    im = cv2.resize(img_np, (64,64))\n",
    "    im = im/255  \n",
    "    return im"
   ]
  },
  {
   "cell_type": "code",
   "execution_count": 21,
   "metadata": {},
   "outputs": [],
   "source": [
    "def preprocess_image_2(im_path):\n",
    "    img_np = cv2.imread(im_path, cv2.IMREAD_COLOR)\n",
    "    img_np = cv2.cvtColor(img_np, cv2.COLOR_BGR2RGB)\n",
    "    im = cv2.resize(img_np, (64,64))\n",
    "    im = im/255  \n",
    "    return im"
   ]
  },
  {
   "cell_type": "code",
   "execution_count": 22,
   "metadata": {},
   "outputs": [],
   "source": [
    "def get_emb_from__ext_img(image_path,emb_model):\n",
    "    or_image = preprocess_image_2(image_path)\n",
    "    or_image_batch = np.expand_dims(or_image, axis=0)\n",
    "    embeddings = emb_model.predict(or_image_batch)\n",
    "    return embeddings"
   ]
  },
  {
   "cell_type": "code",
   "execution_count": 44,
   "metadata": {},
   "outputs": [],
   "source": [
    "category_list = ['Tops', 'Bottoms', 'Bags', 'Shoes', 'Onepieces', 'Outwear', 'Accessories']"
   ]
  },
  {
   "cell_type": "code",
   "execution_count": null,
   "metadata": {},
   "outputs": [],
   "source": [
    "#function to import images, preproccess the and save them to a pickle file.\n",
    "for i in category_list:\n",
    "    image_dir_path = f\"/notebooks/polyvore_1000_cleaned/{i}/*.*\"\n",
    "    pickle_path = f\"/notebooks/polyvore_1000_cleaned/pickle_files/{i}.pkl\"\n",
    "    img_paths = glob.glob(image_dir_path)\n",
    "    print(img_paths)\n",
    "    preprocessed_images = [preprosses_image_1(path) for path in img_paths]\n",
    "    features = np.array(preprocessed_images)\n",
    "    print(features.shape)\n",
    "    with open(pickle_path, \"wb\") as pickle_file:\n",
    "        pickle.dump(features, pickle_file)\n",
    "        "
   ]
  },
  {
   "cell_type": "code",
   "execution_count": 33,
   "metadata": {},
   "outputs": [],
   "source": [
    "with open(\"/home/thanos/Desktop/Sustainable_fashion/data/polyvore_vong/polyvore_1000_cleaned/pickle_files/Tops.pkl\", \"rb\") as f:\n",
    "    features = pickle.load(f)"
   ]
  },
  {
   "cell_type": "code",
   "execution_count": 34,
   "metadata": {},
   "outputs": [
    {
     "data": {
      "text/plain": [
       "(871, 64, 64, 3)"
      ]
     },
     "execution_count": 34,
     "metadata": {},
     "output_type": "execute_result"
    }
   ],
   "source": [
    "features.shape"
   ]
  },
  {
   "cell_type": "code",
   "execution_count": null,
   "metadata": {},
   "outputs": [],
   "source": []
  },
  {
   "cell_type": "code",
   "execution_count": 14,
   "metadata": {},
   "outputs": [
    {
     "name": "stdout",
     "output_type": "stream",
     "text": [
      "shape of decoded (None, 64, 64, 3)\n"
     ]
    }
   ],
   "source": [
    "# Initialize the imput as a color image size 64x64 pixels\n",
    "input_layer = Input(shape=(64,64,3))\n",
    "\n",
    "# Encoder: Increase dimensionality in convolutions, then reduce to 16x1x1\n",
    "conv1 = Conv2D(496, (3, 3), activation='relu', padding='same')(input_layer)\n",
    "pool1 = MaxPooling2D(pool_size=(2, 2), padding='same')(conv1)\n",
    "conv2 = Conv2D(248, (3, 3), activation='relu', padding='same')(pool1)\n",
    "pool2 = MaxPooling2D(pool_size=(2, 2), padding='same')(conv2)\n",
    "conv3 = Conv2D(124, (3, 3), activation='relu', padding='same')(pool2)\n",
    "pool3 = MaxPooling2D(pool_size=(2, 2), padding='same')(conv3)\n",
    "conv4 = Conv2D(64, (3, 3), activation='relu', padding='same')(pool3)\n",
    "pool4 = MaxPooling2D(pool_size=(2, 2), padding='same')(conv4)\n",
    "conv5 = Conv2D(32, (3, 3), activation='relu', padding='same')(pool4)\n",
    "pool5 = MaxPooling2D((2, 2), padding='same')(conv5)\n",
    "conv6 = Conv2D(16, (3, 3), activation='relu', padding='same')(pool5)\n",
    "pool6 = MaxPooling2D((2, 2), padding='same')(conv6)\n",
    "conv7 = Conv2D(16, (3, 3), activation='relu', padding='same')(pool6)\n",
    "pool7 = MaxPooling2D((2, 2), padding='same')(conv7)\n",
    "\n",
    "# Reduced dimensionailty layer that can be taken as an embedding of the original image\n",
    "encoded = Flatten(name = 'encoded')(pool7)\n",
    "\n",
    "# Decoder: Reverse the process of the encoder\n",
    "conv8 = Conv2D(16, (3, 3), activation='relu', padding='same')(pool7) \n",
    "up1 = UpSampling2D((2,2))(conv8)\n",
    "conv9 = Conv2D(16, (3, 3), activation='relu', padding='same')(up1) \n",
    "up2 = UpSampling2D((2,2))(conv9)\n",
    "conv10 = Conv2D(32, (3, 3), activation='relu', padding='same')(up2) \n",
    "up3 = UpSampling2D((2,2))(conv10) \n",
    "conv11 = Conv2D(64, (3, 3), activation='relu', padding='same')(up3)\n",
    "up4 = UpSampling2D((2,2))(conv11)\n",
    "conv12 = Conv2D(124, (3, 3), activation='relu', padding='same')(up4)\n",
    "up5 = UpSampling2D((2,2))(conv12) \n",
    "conv13 = Conv2D(248, (3, 3), activation='relu', padding='same')(up5)\n",
    "up6 = UpSampling2D((1, 1))(conv13)\n",
    "conv14 = Conv2D(496, (3, 3), activation='relu', padding='same')(up6)\n",
    "up7 = UpSampling2D((2, 2))(conv14)\n",
    "\n",
    "# Final layer that is the same shape as the input. This is the result that should return the same image as the input\n",
    "decoded = Conv2D(3, (5, 5), activation='sigmoid', padding='same')(up7)\n",
    "# Check the output is the same shape as the input\n",
    "print ('shape of decoded', K.int_shape(decoded))\n",
    "\n",
    "# Initialize input and output\n",
    "autoencoder = Model(input_layer, decoded)\n",
    "\n",
    "# Model that will return the embedding rather than the predicted image, but trained using the autoencoded model\n",
    "encoder = Model(input_layer, encoded)"
   ]
  },
  {
   "cell_type": "code",
   "execution_count": 16,
   "metadata": {},
   "outputs": [
    {
     "data": {
      "text/plain": [
       "<KerasTensor: shape=(None, 16) dtype=float32 (created by layer 'encoded')>"
      ]
     },
     "execution_count": 16,
     "metadata": {},
     "output_type": "execute_result"
    }
   ],
   "source": [
    "encoder.output"
   ]
  },
  {
   "cell_type": "code",
   "execution_count": 42,
   "metadata": {},
   "outputs": [],
   "source": [
    "json_autoencoder = autoencoder.to_json()\n",
    "json_encoder = encoder.to_json()"
   ]
  },
  {
   "cell_type": "code",
   "execution_count": null,
   "metadata": {},
   "outputs": [],
   "source": [
    "# setting for callbacks and re adjusting the learning rate\n",
    "clr = ReduceLROnPlateau(\n",
    "    monitor='val_loss',\n",
    "    factor=0.5,\n",
    "    patience=3,\n",
    "    min_delta=0.01,\n",
    "    cooldown=0,\n",
    "    min_lr=1e-7,\n",
    "    verbose=1)"
   ]
  },
  {
   "cell_type": "code",
   "execution_count": null,
   "metadata": {},
   "outputs": [],
   "source": [
    "# training on one category feature for hyper parameter tuning\n",
    "opt = keras.optimizers.Adam(learning_rate=0.001)\n",
    "autoencoder_bags = Model(input_layer, decoded)\n",
    "encoder_bags = Model(input_layer, encoded)\n",
    "autoencoder_bags.compile(optimizer=opt, loss='binary_crossentropy')\n",
    "history = autoencoder_bags.fit(features, features, epochs=300, batch_size=64, validation_split=.15)"
   ]
  },
  {
   "cell_type": "code",
   "execution_count": null,
   "metadata": {},
   "outputs": [],
   "source": [
    "pyplot.plot(history.history['loss'], label='train')\n",
    "pyplot.plot(history.history['val_loss'], label='val')\n",
    "pyplot.legend()\n",
    "pyplot.show()"
   ]
  },
  {
   "cell_type": "code",
   "execution_count": null,
   "metadata": {},
   "outputs": [],
   "source": [
    "# Train all models in a single loop\n",
    "item = ['Tops', 'Bottoms', 'Bags', 'Shoes', 'Onepieces', 'Outwear', 'Accessories']\n",
    "\n",
    "for i in range(0,len(item)):\n",
    "    # Establish the models from the jsons\n",
    "    autoencoder = model_from_json(json_autoencoder)\n",
    "    encoder = model_from_json(json_encoder)\n",
    "    \n",
    "    # Import the images (which are preprocessed and stored in a numpy array of shape (15049,3,64,64))\n",
    "    path = '/notebooks/polyvore_1000_cleaned/pickle_files/' + item[i] + '.pkl'\n",
    "    with open(path, 'rb') as picklefile: \n",
    "        features = pickle.load(picklefile)\n",
    "    # Standardize the features\n",
    "    #features = features/255\n",
    "    \n",
    "    # Fit the Model\n",
    "    autoencoder.compile(optimizer='adam', loss='binary_crossentropy')\n",
    "    print('Fitting model '+ item[i])\n",
    "    autoencoder.fit(features, features, epochs=300, batch_size=64, validation_split=.15)\n",
    "    \n",
    "    # Save the model and and encoder\n",
    "    autoencoder_name = item[i] + '_model.h5'\n",
    "    autoencoder.save(autoencoder_name)\n",
    "    encoder_name = item[i] + '_embedding_model.h5'\n",
    "    encoder.save(encoder_name)\n",
    "    \n",
    "    # Delete the images and models to make room in memory\n",
    "    del(features)\n",
    "    del(autoencoder)\n",
    "    del(encoder)"
   ]
  },
  {
   "cell_type": "code",
   "execution_count": 15,
   "metadata": {},
   "outputs": [],
   "source": [
    "loaded_autoencoder = load_model('/home/thanos/Desktop/Sustainable_fashion/data/models/Models_autoencoders/Shoes_model.h5')\n"
   ]
  },
  {
   "cell_type": "code",
   "execution_count": 17,
   "metadata": {},
   "outputs": [
    {
     "name": "stdout",
     "output_type": "stream",
     "text": [
      "1/1 [==============================] - 0s 256ms/step\n"
     ]
    },
    {
     "data": {
      "image/png": "[encoded data removed]",
      "text/plain": [
       "<Figure size 720x288 with 2 Axes>"
      ]
     },
     "metadata": {
      "needs_background": "light"
     },
     "output_type": "display_data"
    }
   ],
   "source": [
    "##PLOTING IMAGES FOR EVALUATION####\n",
    "\n",
    "#image_path = '/notebooks/examples/1164.jpg'\n",
    "#image_path = '/notebooks/examples/result_image_1688505367634.jpg'  # Replace with your image path\n",
    "#image_path = '/notebooks/examples/result_image_1688505367634.jpg'  # Replace with your image path\n",
    "image_path = '/home/thanos/Desktop/Sustainable_fashion/data/test_images/2393.jpg'\n",
    "original_image = preprocess_image_2(image_path)\n",
    "\n",
    "# Add a new axis to make it a batch of size 1\n",
    "original_image_batch = np.expand_dims(original_image, axis=0)\n",
    "\n",
    "# Get the autoencoder's reconstruction\n",
    "reconstructed_image = loaded_autoencoder.predict(original_image_batch)\n",
    "\n",
    "# Display the original and reconstructed images using matplotlib\n",
    "plt.figure(figsize=(10, 4))\n",
    "\n",
    "# Original image\n",
    "plt.subplot(1, 2, 1)\n",
    "plt.imshow(original_image)\n",
    "plt.title('Original Image')\n",
    "plt.axis('off')\n",
    "\n",
    "# Reconstructed image\n",
    "plt.subplot(1, 2, 2)\n",
    "plt.imshow(reconstructed_image[0])\n",
    "plt.title('Reconstructed Image')\n",
    "plt.axis('off')\n",
    "\n",
    "plt.tight_layout()\n",
    "plt.show()"
   ]
  },
  {
   "cell_type": "code",
   "execution_count": 28,
   "metadata": {},
   "outputs": [
    {
     "name": "stdout",
     "output_type": "stream",
     "text": [
      "WARNING:tensorflow:No training configuration found in the save file, so the model was *not* compiled. Compile it manually.\n"
     ]
    }
   ],
   "source": [
    "loaded_encoder = load_model('/home/thanos/Desktop/Sustainable_fashion/data/models/Models_autoencoders/Shoes_embedding_model.h5')\n"
   ]
  },
  {
   "cell_type": "code",
   "execution_count": 9,
   "metadata": {},
   "outputs": [],
   "source": [
    "image_path = '/home/thanos/Desktop/Sustainable_fashion/data/test_images/2393.jpg'"
   ]
  },
  {
   "cell_type": "code",
   "execution_count": 19,
   "metadata": {},
   "outputs": [
    {
     "name": "stdout",
     "output_type": "stream",
     "text": [
      "1/1 [==============================] - 0s 36ms/step\n"
     ]
    }
   ],
   "source": [
    "image_with_embd = get_emb_from__ext_img(image_path,loaded_encoder)\n"
   ]
  },
  {
   "cell_type": "code",
   "execution_count": null,
   "metadata": {},
   "outputs": [],
   "source": []
  },
  {
   "cell_type": "code",
   "execution_count": 24,
   "metadata": {},
   "outputs": [],
   "source": [
    "with open('/home/thanos/Desktop/Sustainable_fashion/data/polyvore_vong/polyvore_1000_cleaned/pickle_files/Tops.pkl', \"rb\") as f:\n",
    "    features = pickle.load(f)"
   ]
  },
  {
   "cell_type": "code",
   "execution_count": null,
   "metadata": {},
   "outputs": [],
   "source": [
    "df = pd.DataFrame(features)"
   ]
  },
  {
   "cell_type": "code",
   "execution_count": 37,
   "metadata": {},
   "outputs": [],
   "source": [
    "import pickle\n",
    "import numpy as np\n",
    "\n",
    "\n",
    "# List of categories\n",
    "categories = [\"Tops\", \"Bottoms\", \"Bags\", \"Outwear\", \"Onepieces\", \"Shoes\", \"Accessories\"]\n",
    "\n",
    "# Initialize lists to hold data and labels\n",
    "all_data = []\n",
    "all_labels = []\n",
    "\n",
    "# Loop through each category\n",
    "for category in categories:\n",
    "    # Construct the file path\n",
    "    file_path = f\"/home/thanos/Desktop/Sustainable_fashion/data/polyvore_vong/polyvore_1000_cleaned/pickle_files/{category}.pkl\"\n",
    "    \n",
    "    # Load the data\n",
    "    with open(file_path, \"rb\") as f:\n",
    "        features = pickle.load(f)\n",
    "    \n",
    "    # Append the loaded data and labels to the lists\n",
    "    all_data.append(features)\n",
    "    all_labels.append(np.full((features.shape[0],), category))\n",
    "\n",
    "# Concatenate all data and labels along the first axis\n",
    "all_data = np.concatenate(all_data, axis=0)\n",
    "all_labels = np.concatenate(all_labels, axis=0)"
   ]
  },
  {
   "cell_type": "code",
   "execution_count": 38,
   "metadata": {},
   "outputs": [
    {
     "name": "stdout",
     "output_type": "stream",
     "text": [
      "28/28 [==============================] - 9s 325ms/step\n",
      "30/30 [==============================] - 10s 330ms/step\n",
      "31/31 [==============================] - 14s 436ms/step\n",
      "30/30 [==============================] - 13s 443ms/step\n",
      "30/30 [==============================] - 13s 417ms/step\n",
      "28/28 [==============================] - 12s 440ms/step\n",
      "26/26 [==============================] - 11s 420ms/step\n"
     ]
    }
   ],
   "source": [
    "categories = [\"Tops\", \"Bottoms\", \"Bags\", \"Outwear\", \"Onepieces\", \"Shoes\", \"Accessories\"]\n",
    "\n",
    "# Initialize a list to store the embeddings\n",
    "all_embeddings = []\n",
    "\n",
    "# Loop through each category\n",
    "for category in categories:\n",
    "    # Construct the file path\n",
    "    model_path = f\"/home/thanos/Desktop/Sustainable_fashion/data/models/Models_autoencoders/{category}_embedding_model.h5\"\n",
    "    \n",
    "    # Load the encoder model\n",
    "    encoder = load_model(model_path, compile=False)  # Use compile=False if you only need to forward-pass\n",
    "    \n",
    "    # Find the indices of images belonging to the current category\n",
    "    idx = np.where(all_labels == category)[0]\n",
    "    \n",
    "    # Extract the subset of images belonging to the current category\n",
    "    category_images = all_data[idx]\n",
    "    \n",
    "    # Generate embeddings using the encoder\n",
    "    embeddings = encoder.predict(category_images)\n",
    "    \n",
    "    # You might want to keep track of embeddings along with their labels.\n",
    "    # For simplicity, and to keep them in order, we'll append them to a list first\n",
    "    all_embeddings.append(embeddings)\n",
    "\n",
    "# After looping through all categories, concatenate all embeddings along the first axis\n",
    "all_embeddings = np.concatenate(all_embeddings, axis=0)"
   ]
  },
  {
   "cell_type": "code",
   "execution_count": 40,
   "metadata": {},
   "outputs": [
    {
     "data": {
      "text/plain": [
       "(6395, 16)"
      ]
     },
     "execution_count": 40,
     "metadata": {},
     "output_type": "execute_result"
    }
   ],
   "source": [
    "all_embeddings.shape"
   ]
  },
  {
   "cell_type": "code",
   "execution_count": 36,
   "metadata": {},
   "outputs": [
    {
     "data": {
      "text/plain": [
       "(871, 16)"
      ]
     },
     "execution_count": 36,
     "metadata": {},
     "output_type": "execute_result"
    }
   ],
   "source": [
    "embeddings.shape"
   ]
  },
  {
   "cell_type": "code",
   "execution_count": 31,
   "metadata": {},
   "outputs": [
    {
     "data": {
      "text/plain": [
       "array([  0,   1,   2,   3,   4,   5,   6,   7,   8,   9,  10,  11,  12,\n",
       "        13,  14,  15,  16,  17,  18,  19,  20,  21,  22,  23,  24,  25,\n",
       "        26,  27,  28,  29,  30,  31,  32,  33,  34,  35,  36,  37,  38,\n",
       "        39,  40,  41,  42,  43,  44,  45,  46,  47,  48,  49,  50,  51,\n",
       "        52,  53,  54,  55,  56,  57,  58,  59,  60,  61,  62,  63,  64,\n",
       "        65,  66,  67,  68,  69,  70,  71,  72,  73,  74,  75,  76,  77,\n",
       "        78,  79,  80,  81,  82,  83,  84,  85,  86,  87,  88,  89,  90,\n",
       "        91,  92,  93,  94,  95,  96,  97,  98,  99, 100, 101, 102, 103,\n",
       "       104, 105, 106, 107, 108, 109, 110, 111, 112, 113, 114, 115, 116,\n",
       "       117, 118, 119, 120, 121, 122, 123, 124, 125, 126, 127, 128, 129,\n",
       "       130, 131, 132, 133, 134, 135, 136, 137, 138, 139, 140, 141, 142,\n",
       "       143, 144, 145, 146, 147, 148, 149, 150, 151, 152, 153, 154, 155,\n",
       "       156, 157, 158, 159, 160, 161, 162, 163, 164, 165, 166, 167, 168,\n",
       "       169, 170, 171, 172, 173, 174, 175, 176, 177, 178, 179, 180, 181,\n",
       "       182, 183, 184, 185, 186, 187, 188, 189, 190, 191, 192, 193, 194,\n",
       "       195, 196, 197, 198, 199, 200, 201, 202, 203, 204, 205, 206, 207,\n",
       "       208, 209, 210, 211, 212, 213, 214, 215, 216, 217, 218, 219, 220,\n",
       "       221, 222, 223, 224, 225, 226, 227, 228, 229, 230, 231, 232, 233,\n",
       "       234, 235, 236, 237, 238, 239, 240, 241, 242, 243, 244, 245, 246,\n",
       "       247, 248, 249, 250, 251, 252, 253, 254, 255, 256, 257, 258, 259,\n",
       "       260, 261, 262, 263, 264, 265, 266, 267, 268, 269, 270, 271, 272,\n",
       "       273, 274, 275, 276, 277, 278, 279, 280, 281, 282, 283, 284, 285,\n",
       "       286, 287, 288, 289, 290, 291, 292, 293, 294, 295, 296, 297, 298,\n",
       "       299, 300, 301, 302, 303, 304, 305, 306, 307, 308, 309, 310, 311,\n",
       "       312, 313, 314, 315, 316, 317, 318, 319, 320, 321, 322, 323, 324,\n",
       "       325, 326, 327, 328, 329, 330, 331, 332, 333, 334, 335, 336, 337,\n",
       "       338, 339, 340, 341, 342, 343, 344, 345, 346, 347, 348, 349, 350,\n",
       "       351, 352, 353, 354, 355, 356, 357, 358, 359, 360, 361, 362, 363,\n",
       "       364, 365, 366, 367, 368, 369, 370, 371, 372, 373, 374, 375, 376,\n",
       "       377, 378, 379, 380, 381, 382, 383, 384, 385, 386, 387, 388, 389,\n",
       "       390, 391, 392, 393, 394, 395, 396, 397, 398, 399, 400, 401, 402,\n",
       "       403, 404, 405, 406, 407, 408, 409, 410, 411, 412, 413, 414, 415,\n",
       "       416, 417, 418, 419, 420, 421, 422, 423, 424, 425, 426, 427, 428,\n",
       "       429, 430, 431, 432, 433, 434, 435, 436, 437, 438, 439, 440, 441,\n",
       "       442, 443, 444, 445, 446, 447, 448, 449, 450, 451, 452, 453, 454,\n",
       "       455, 456, 457, 458, 459, 460, 461, 462, 463, 464, 465, 466, 467,\n",
       "       468, 469, 470, 471, 472, 473, 474, 475, 476, 477, 478, 479, 480,\n",
       "       481, 482, 483, 484, 485, 486, 487, 488, 489, 490, 491, 492, 493,\n",
       "       494, 495, 496, 497, 498, 499, 500, 501, 502, 503, 504, 505, 506,\n",
       "       507, 508, 509, 510, 511, 512, 513, 514, 515, 516, 517, 518, 519,\n",
       "       520, 521, 522, 523, 524, 525, 526, 527, 528, 529, 530, 531, 532,\n",
       "       533, 534, 535, 536, 537, 538, 539, 540, 541, 542, 543, 544, 545,\n",
       "       546, 547, 548, 549, 550, 551, 552, 553, 554, 555, 556, 557, 558,\n",
       "       559, 560, 561, 562, 563, 564, 565, 566, 567, 568, 569, 570, 571,\n",
       "       572, 573, 574, 575, 576, 577, 578, 579, 580, 581, 582, 583, 584,\n",
       "       585, 586, 587, 588, 589, 590, 591, 592, 593, 594, 595, 596, 597,\n",
       "       598, 599, 600, 601, 602, 603, 604, 605, 606, 607, 608, 609, 610,\n",
       "       611, 612, 613, 614, 615, 616, 617, 618, 619, 620, 621, 622, 623,\n",
       "       624, 625, 626, 627, 628, 629, 630, 631, 632, 633, 634, 635, 636,\n",
       "       637, 638, 639, 640, 641, 642, 643, 644, 645, 646, 647, 648, 649,\n",
       "       650, 651, 652, 653, 654, 655, 656, 657, 658, 659, 660, 661, 662,\n",
       "       663, 664, 665, 666, 667, 668, 669, 670, 671, 672, 673, 674, 675,\n",
       "       676, 677, 678, 679, 680, 681, 682, 683, 684, 685, 686, 687, 688,\n",
       "       689, 690, 691, 692, 693, 694, 695, 696, 697, 698, 699, 700, 701,\n",
       "       702, 703, 704, 705, 706, 707, 708, 709, 710, 711, 712, 713, 714,\n",
       "       715, 716, 717, 718, 719, 720, 721, 722, 723, 724, 725, 726, 727,\n",
       "       728, 729, 730, 731, 732, 733, 734, 735, 736, 737, 738, 739, 740,\n",
       "       741, 742, 743, 744, 745, 746, 747, 748, 749, 750, 751, 752, 753,\n",
       "       754, 755, 756, 757, 758, 759, 760, 761, 762, 763, 764, 765, 766,\n",
       "       767, 768, 769, 770, 771, 772, 773, 774, 775, 776, 777, 778, 779,\n",
       "       780, 781, 782, 783, 784, 785, 786, 787, 788, 789, 790, 791, 792,\n",
       "       793, 794, 795, 796, 797, 798, 799, 800, 801, 802, 803, 804, 805,\n",
       "       806, 807, 808, 809, 810, 811, 812, 813, 814, 815, 816, 817, 818,\n",
       "       819, 820, 821, 822, 823, 824, 825, 826, 827, 828, 829, 830, 831,\n",
       "       832, 833, 834, 835, 836, 837, 838, 839, 840, 841, 842, 843, 844,\n",
       "       845, 846, 847, 848, 849, 850, 851, 852, 853, 854, 855, 856, 857,\n",
       "       858, 859, 860, 861, 862, 863, 864, 865, 866, 867, 868, 869, 870])"
      ]
     },
     "execution_count": 31,
     "metadata": {},
     "output_type": "execute_result"
    }
   ],
   "source": [
    "idx"
   ]
  },
  {
   "cell_type": "code",
   "execution_count": null,
   "metadata": {},
   "outputs": [],
   "source": []
  },
  {
   "cell_type": "code",
   "execution_count": 29,
   "metadata": {},
   "outputs": [
    {
     "name": "stdout",
     "output_type": "stream",
     "text": [
      "200/200 [==============================] - 85s 421ms/step\n"
     ]
    },
    {
     "data": {
      "text/plain": [
       "array([[0.00269133, 0.00822546, 0.00019723, ..., 0.        , 0.        ,\n",
       "        0.        ],\n",
       "       [0.0058361 , 0.00549791, 0.        , ..., 0.        , 0.        ,\n",
       "        0.        ],\n",
       "       [0.00576472, 0.00523382, 0.        , ..., 0.        , 0.        ,\n",
       "        0.        ],\n",
       "       ...,\n",
       "       [0.00527093, 0.00608881, 0.        , ..., 0.        , 0.        ,\n",
       "        0.        ],\n",
       "       [0.00628074, 0.0049903 , 0.        , ..., 0.        , 0.        ,\n",
       "        0.        ],\n",
       "       [0.00373923, 0.00434462, 0.00034376, ..., 0.        , 0.        ,\n",
       "        0.        ]], dtype=float32)"
      ]
     },
     "execution_count": 29,
     "metadata": {},
     "output_type": "execute_result"
    }
   ],
   "source": [
    "loaded_encoder.predict(all_data)"
   ]
  },
  {
   "cell_type": "code",
   "execution_count": 6,
   "metadata": {},
   "outputs": [
    {
     "data": {
      "text/plain": [
       "(6395,)"
      ]
     },
     "execution_count": 6,
     "metadata": {},
     "output_type": "execute_result"
    }
   ],
   "source": [
    "all_labels.shape"
   ]
  },
  {
   "cell_type": "code",
   "execution_count": 8,
   "metadata": {},
   "outputs": [
    {
     "data": {
      "text/plain": [
       "(6395, 64, 64, 3)"
      ]
     },
     "execution_count": 8,
     "metadata": {},
     "output_type": "execute_result"
    }
   ],
   "source": [
    "all_data.shape"
   ]
  },
  {
   "cell_type": "code",
   "execution_count": 9,
   "metadata": {},
   "outputs": [
    {
     "data": {
      "text/plain": [
       "array(['Tops', 'Tops', 'Tops', ..., 'Accessories', 'Accessories',\n",
       "       'Accessories'], dtype='<U11')"
      ]
     },
     "execution_count": 9,
     "metadata": {},
     "output_type": "execute_result"
    }
   ],
   "source": [
    "all_labels"
   ]
  },
  {
   "cell_type": "code",
   "execution_count": null,
   "metadata": {},
   "outputs": [],
   "source": [
    "all_embeddings"
   ]
  },
  {
   "cell_type": "code",
   "execution_count": 46,
   "metadata": {},
   "outputs": [],
   "source": [
    "idx = np.random.choice(len(all_embeddings), 1000)\n",
    "inputs = all_data[idx]"
   ]
  },
  {
   "cell_type": "code",
   "execution_count": 47,
   "metadata": {},
   "outputs": [
    {
     "data": {
      "text/plain": [
       "(6395, 64, 64, 3)"
      ]
     },
     "execution_count": 47,
     "metadata": {},
     "output_type": "execute_result"
    }
   ],
   "source": [
    "all_data.shape"
   ]
  },
  {
   "cell_type": "code",
   "execution_count": 62,
   "metadata": {},
   "outputs": [],
   "source": [
    "from sklearn.manifold import TSNE\n",
    "from sklearn.decomposition import PCA\n",
    "\n",
    "def plot_latent(mode, count, technique):\n",
    "    idx = np.random.choice(len(all_embeddings), count)\n",
    "    inputs = all_data[idx]\n",
    "    embed = all_embeddings[idx]\n",
    "    fig, ax = plt.subplots(figsize=(10, 7))\n",
    "    ax.set_title(technique)\n",
    "    if technique == 'pca':\n",
    "        coords = PCA(n_components=2).fit_transform(embed.reshape(count, -1))\n",
    "    elif technique == 'tsne':\n",
    "        coords = TSNE(n_components=2).fit_transform(embed.reshape(count, -1))\n",
    "\n",
    "    if mode == 'imgs':\n",
    "        for image, (x, y) in zip(inputs, coords):\n",
    "            im = cv2.resize(image, (14,14))\n",
    "            im = OffsetImage(im, zoom=1, cmap='gray')\n",
    "            ab = AnnotationBbox(im, (x, y), xycoords='data', frameon=False)\n",
    "            ax.add_artist(ab)\n",
    "        ax.update_datalim(coords)\n",
    "        ax.autoscale()\n",
    "    # elif mode == 'dots':\n",
    "    #     classes = all_labels[idx]\n",
    "    #     plt.scatter(coords[:, 0], coords[:, 1], c=classes)\n",
    "    #     plt.colorbar()\n",
    "    #     for i in range(10):\n",
    "    #         class_center = np.mean(coords[classes == i], axis=0)\n",
    "    #         text = TextArea('{} ({})'.format(categories[i], i))\n",
    "    #         ab = AnnotationBbox(text, class_center, xycoords='data', frameon=True)\n",
    "    #         ax.add_artist(ab)\n",
    "    plt.show()    "
   ]
  },
  {
   "cell_type": "code",
   "execution_count": 63,
   "metadata": {},
   "outputs": [
    {
     "data": {
      "image/png": "[encoded data removed]",
      "text/plain": [
       "<Figure size 720x504 with 1 Axes>"
      ]
     },
     "metadata": {
      "needs_background": "light"
     },
     "output_type": "display_data"
    }
   ],
   "source": [
    "plot_latent('imgs', 300, 'pca')\n"
   ]
  },
  {
   "cell_type": "code",
   "execution_count": 24,
   "metadata": {},
   "outputs": [
    {
     "data": {
      "text/plain": [
       "(1000, 2)"
      ]
     },
     "execution_count": 24,
     "metadata": {},
     "output_type": "execute_result"
    }
   ],
   "source": [
    "coords.shape"
   ]
  },
  {
   "cell_type": "code",
   "execution_count": 26,
   "metadata": {},
   "outputs": [
    {
     "data": {
      "text/plain": [
       "(1000, 64, 64, 3)"
      ]
     },
     "execution_count": 26,
     "metadata": {},
     "output_type": "execute_result"
    }
   ],
   "source": [
    "inputs.shape"
   ]
  },
  {
   "cell_type": "code",
   "execution_count": 13,
   "metadata": {},
   "outputs": [
    {
     "data": {
      "text/plain": [
       "[<KerasTensor: shape=(None, 2) dtype=float32 (created by layer 'dense_2')>]"
      ]
     },
     "execution_count": 13,
     "metadata": {},
     "output_type": "execute_result"
    }
   ],
   "source": [
    "encoder.outputs"
   ]
  },
  {
   "cell_type": "code",
   "execution_count": null,
   "metadata": {},
   "outputs": [],
   "source": []
  },
  {
   "cell_type": "code",
   "execution_count": null,
   "metadata": {},
   "outputs": [],
   "source": []
  },
  {
   "cell_type": "code",
   "execution_count": null,
   "metadata": {},
   "outputs": [],
   "source": []
  },
  {
   "cell_type": "code",
   "execution_count": null,
   "metadata": {},
   "outputs": [],
   "source": []
  },
  {
   "cell_type": "code",
   "execution_count": null,
   "metadata": {},
   "outputs": [],
   "source": []
  }
 ],
 "metadata": {
  "kernelspec": {
   "display_name": "test",
   "language": "python",
   "name": "python3"
  },
  "language_info": {
   "codemirror_mode": {
    "name": "ipython",
    "version": 3
   },
   "file_extension": ".py",
   "mimetype": "text/x-python",
   "name": "python",
   "nbconvert_exporter": "python",
   "pygments_lexer": "ipython3",
   "version": "3.10.12"
  },
  "orig_nbformat": 4
 },
 "nbformat": 4,
 "nbformat_minor": 2
}
